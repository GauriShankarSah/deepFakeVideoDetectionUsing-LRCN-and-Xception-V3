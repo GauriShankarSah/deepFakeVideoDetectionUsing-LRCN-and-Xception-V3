{
  "cells": [
    {
      "cell_type": "code",
      "execution_count": null,
      "id": "278279e6-7ba5-4851-aae6-c28fd7c64fdf",
      "metadata": {
        "id": "278279e6-7ba5-4851-aae6-c28fd7c64fdf"
      },
      "outputs": [],
      "source": [
        "\n",
        "# Import the required libraries.\n",
        "import os\n",
        "import cv2\n",
        "import math\n",
        "import random\n",
        "import numpy as np\n",
        "import datetime as dt\n",
        "import tensorflow as tf\n",
        "from collections import deque\n",
        "import matplotlib.pyplot as plt\n",
        "\n",
        "from moviepy.editor import *\n",
        "%matplotlib inline\n",
        "\n",
        "# For Xception \n",
        "from tensorflow.keras.applications import Xception\n",
        "\n",
        "import kerastuner as kt\n",
        "from tensorflow.keras.optimizers import RMSprop, Adam, SGD, Nadam, Adadelta\n",
        "from kerastuner.tuners import RandomSearch\n",
        "from kerastuner.engine.hyperparameters import HyperParameters\n",
        "\n",
        "from sklearn.model_selection import train_test_split\n",
        "\n",
        "from tensorflow.keras.layers import *\n",
        "from tensorflow.keras.models import Sequential\n",
        "from tensorflow.keras.utils import to_categorical\n",
        "from tensorflow.keras.callbacks import EarlyStopping\n",
        "from tensorflow.keras.utils import plot_model\n",
        "from keras.layers import Conv2D, MaxPooling2D, Flatten, Dense\n",
        "from tensorflow.keras.layers import TimeDistributed, Conv2D, MaxPooling2D, Dropout, LSTM, Flatten, Dense\n"
      ]
    },
    {
      "cell_type": "markdown",
      "id": "de54382e",
      "metadata": {},
      "source": [
        "For GPU availability in Google Co-Laboratory(CoLab)"
      ]
    },
    {
      "cell_type": "code",
      "execution_count": null,
      "id": "tEib9aPHGsXw",
      "metadata": {
        "id": "tEib9aPHGsXw"
      },
      "outputs": [],
      "source": [
        "# Incase of Google Co-Laboratory(colab)\n",
        "\n",
        "# # Check if GPU is available\n",
        "# if tf.test.gpu_device_name():\n",
        "#     print('GPU available:')\n",
        "#     !nvidia-smi\n",
        "# else:\n",
        "#     print('GPU not available.')\n",
        "\n",
        "# # Configure TensorFlow to use GPU if available\n",
        "# config = tf.compat.v1.ConfigProto()\n",
        "# config.gpu_options.allow_growth = True\n",
        "# session = tf.compat.v1.Session(config=config)"
      ]
    },
    {
      "cell_type": "code",
      "execution_count": null,
      "id": "54a48d5c-08cd-49a9-83b7-9de38531bd1b",
      "metadata": {
        "id": "54a48d5c-08cd-49a9-83b7-9de38531bd1b"
      },
      "outputs": [],
      "source": [
        "seed_constant = 27\n",
        "np.random.seed(seed_constant)\n",
        "random.seed(seed_constant)\n",
        "tf.random.set_seed(seed_constant)"
      ]
    },
    {
      "cell_type": "code",
      "execution_count": null,
      "id": "tEa6h20AZB1q",
      "metadata": {
        "id": "tEa6h20AZB1q"
      },
      "outputs": [],
      "source": [
        "# Incase of Google Co-Laboratory(Colab)\n",
        "\n",
        "# from google.colab import drive\n",
        "# drive.mount('/content/drive')"
      ]
    },
    {
      "cell_type": "code",
      "execution_count": null,
      "id": "285803a4-4b0c-48ef-8631-367e6342ab20",
      "metadata": {
        "id": "285803a4-4b0c-48ef-8631-367e6342ab20"
      },
      "outputs": [],
      "source": [
        "# Create a Matplotlib figure and specify the size of the figure\n",
        "plt.figure(figsize=(20, 20))\n",
        "\n",
        "# Get the names of all classes/categories in Celeb-DF-v2.\n",
        "dir_path = r'/content/drive/MyDrive/dataset2/Train'\n",
        "all_classes_names = os.listdir(dir_path)\n",
        "\n",
        "# Ensure there are classes available\n",
        "if not all_classes_names:\n",
        "    print(\"No classes found in the specified directory.\")\n",
        "else:\n",
        "    # Determine the sample size based on the number of classes\n",
        "    sample_size = min(20, len(all_classes_names))\n",
        "\n",
        "    # Check if sample size is 0\n",
        "    if sample_size == 0:\n",
        "        print(\"Sample size is 0. Cannot sample from an empty population.\")\n",
        "    else:\n",
        "        # Generate a list of random indices\n",
        "        random_range = random.sample(range(len(all_classes_names)), sample_size)\n",
        "\n",
        "        # Iterating through all the generated random values.\n",
        "        for counter, random_index in enumerate(random_range, 1):\n",
        "            # Retrieve a Class Name using the Random Index.\n",
        "            selected_class_Name = all_classes_names[random_index]\n",
        "\n",
        "            # Retrieve the list of all the video files present in the randomly selected Class Directory.\n",
        "            video_files_names_list = os.listdir(os.path.join(dir_path, selected_class_Name))\n",
        "\n",
        "            # Randomly select a video file from the list retrieved from the randomly selected Class Directory.\n",
        "            selected_video_file_name = random.choice(video_files_names_list)\n",
        "\n",
        "            # Initialize a VideoCapture object to read from the video file.\n",
        "            video_reader = cv2.VideoCapture(os.path.join(dir_path, selected_class_Name, selected_video_file_name))\n",
        "\n",
        "            # Read the first frame of the video file.\n",
        "            _, bgr_frame = video_reader.read()\n",
        "\n",
        "            # Release the VideoCapture object.\n",
        "            video_reader.release()\n",
        "\n",
        "            # Convert the frame from BGR into RGB format.\n",
        "            rgb_frame = cv2.cvtColor(bgr_frame, cv2.COLOR_BGR2RGB)\n",
        "\n",
        "            # Write the class name on the video frame.\n",
        "            cv2.putText(rgb_frame, selected_class_Name, (10, 30), cv2.FONT_HERSHEY_SIMPLEX, 1, (255, 255, 255), 2)\n",
        "\n",
        "            # Display the frame.\n",
        "            plt.subplot(5, 4, counter)\n",
        "            plt.imshow(rgb_frame)\n",
        "            plt.axis('off')\n",
        "\n",
        "        # Show the Matplotlib figure with the frames.\n",
        "        plt.show()"
      ]
    },
    {
      "cell_type": "code",
      "execution_count": null,
      "id": "c3988e44-52cd-417b-9fbd-ec6315ea8882",
      "metadata": {
        "id": "c3988e44-52cd-417b-9fbd-ec6315ea8882"
      },
      "outputs": [],
      "source": [
        "# Specify the height and weight to which each video frame will be resized in our dataset.\n",
        "IMAGE_HEIGHT, IMAGE_WIDTH = 71, 71\n",
        "\n",
        "# Specify the numbers of frames of a video that will be fed to the model as one sequence.\n",
        "SEQUENCE_LENGTH = 20\n",
        "\n",
        "# Specify the directory containing the  dataset.\n",
        "DATASET_DIR = r'/content/drive/MyDrive/dataset2/Train'\n",
        "\n",
        "\n",
        "# Specify the list containing the names of the classes used for training.\n",
        "CLASSES_LIST = [\"Fake\", \"Real\"]"
      ]
    },
    {
      "cell_type": "code",
      "execution_count": null,
      "id": "601554ed-d586-4e1f-ab5c-ebf527083fef",
      "metadata": {
        "id": "601554ed-d586-4e1f-ab5c-ebf527083fef"
      },
      "outputs": [],
      "source": [
        "def frames_extraction(video_path):\n",
        "    '''\n",
        "    This function will extract the required frames from a video after resizing and normalizing them.\n",
        "    Args:\n",
        "        video_path: The path of the video in the disk, whose frames are to be extracted.\n",
        "    Returns:\n",
        "        frames_list: A list containing the resized and normalized frames of the video.\n",
        "    '''\n",
        "\n",
        "    # Declare a list to store video frames.\n",
        "    frames_list = []\n",
        "\n",
        "    # Read the Video File using the VideoCapture object.\n",
        "    video_reader = cv2.VideoCapture(video_path)\n",
        "\n",
        "    # Get the total number of frames in the video.\n",
        "    video_frames_count = int(video_reader.get(cv2.CAP_PROP_FRAME_COUNT))\n",
        "\n",
        "    # Calculate the the interval after which frames will be added to the list.\n",
        "    skip_frames_window = max(int(video_frames_count/SEQUENCE_LENGTH), 1)\n",
        "\n",
        "    # Iterate through the Video Frames.\n",
        "    for frame_counter in range(SEQUENCE_LENGTH):\n",
        "\n",
        "        # Set the current frame position of the video.\n",
        "        video_reader.set(cv2.CAP_PROP_POS_FRAMES, frame_counter * skip_frames_window)\n",
        "\n",
        "        # Reading the frame from the video.\n",
        "        success, frame = video_reader.read()\n",
        "\n",
        "        # Check if Video frame is not successfully read then break the loop\n",
        "        if not success:\n",
        "            break\n",
        "\n",
        "        # Resize the Frame to fixed height and width.\n",
        "        resized_frame = cv2.resize(frame, (IMAGE_HEIGHT, IMAGE_WIDTH))\n",
        "\n",
        "        # Normalize the resized frame by dividing it with 255 so that each pixel value then lies between 0 and 1\n",
        "        normalized_frame = resized_frame / 255\n",
        "\n",
        "        # Append the normalized frame into the frames list\n",
        "        frames_list.append(normalized_frame)\n",
        "\n",
        "    # Release the VideoCapture object.\n",
        "    video_reader.release()\n",
        "\n",
        "    # Return the frames list.\n",
        "    return frames_list"
      ]
    },
    {
      "cell_type": "code",
      "execution_count": null,
      "id": "b6311f3b-9a10-4fcd-ae6e-5ca60c40b1bc",
      "metadata": {
        "id": "b6311f3b-9a10-4fcd-ae6e-5ca60c40b1bc"
      },
      "outputs": [],
      "source": [
        "def create_dataset():\n",
        "    '''\n",
        "    This function will extract the data of the selected classes and create the required dataset.\n",
        "    Returns:\n",
        "        features:          A list containing the extracted frames of the videos.\n",
        "        labels:            A list containing the indexes of the classes associated with the videos.\n",
        "        video_files_paths: A list containing the paths of the videos in the disk.\n",
        "    '''\n",
        "\n",
        "    # Declared Empty Lists to store the features, labels and video file path values.\n",
        "    features = []\n",
        "    labels = []\n",
        "    video_files_paths = []\n",
        "\n",
        "    # Iterating through all the classes mentioned in the classes list\n",
        "    for class_index, class_name in enumerate(CLASSES_LIST):\n",
        "\n",
        "        # Display the name of the class whose data is being extracted.\n",
        "        print(f'Extracting Data of Class: {class_name}')\n",
        "\n",
        "        # Get the list of video files present in the specific class name directory.\n",
        "        class_path = os.path.join(DATASET_DIR, class_name)\n",
        "        files_list = os.listdir(class_path)\n",
        "\n",
        "        # Iterate through all the files present in the files list.\n",
        "        for file_name in files_list:\n",
        "\n",
        "            # Get the complete video path.\n",
        "            video_file_path = os.path.join(class_path, file_name)\n",
        "\n",
        "            # Extract the frames of the video file.\n",
        "            frames = frames_extraction(video_file_path)\n",
        "\n",
        "            # Check if the extracted frames are equal to the SEQUENCE_LENGTH specified above.\n",
        "            # So ignore the vides having frames less than the SEQUENCE_LENGTH.\n",
        "            if len(frames) == SEQUENCE_LENGTH:\n",
        "\n",
        "                # Append the data to their repective lists.\n",
        "                features.append(frames)\n",
        "                labels.append(class_index)\n",
        "                video_files_paths.append(video_file_path)\n",
        "\n",
        "    # Converting the list to numpy arrays\n",
        "    features = np.asarray(features)\n",
        "    labels = np.array(labels)\n",
        "\n",
        "    # Return the frames, class index, and video file path.\n",
        "    return features, labels, video_files_paths"
      ]
    },
    {
      "cell_type": "code",
      "execution_count": null,
      "id": "2d928885-c79d-43b0-a3cb-94ac748b1538",
      "metadata": {
        "id": "2d928885-c79d-43b0-a3cb-94ac748b1538"
      },
      "outputs": [],
      "source": [
        "# Create the dataset.\n",
        "features, labels, video_files_paths = create_dataset()"
      ]
    },
    {
      "cell_type": "code",
      "execution_count": null,
      "id": "cf769f88-cdca-47fb-bd77-276de8e51772",
      "metadata": {
        "id": "cf769f88-cdca-47fb-bd77-276de8e51772"
      },
      "outputs": [],
      "source": [
        "# Using Keras's to_categorical method to convert labels into one-hot-encoded vectors\n",
        "one_hot_encoded_labels = to_categorical(labels)"
      ]
    },
    {
      "cell_type": "code",
      "execution_count": null,
      "id": "5e8d1615-7b3c-47f1-bc96-fd5e1ea60bdd",
      "metadata": {
        "id": "5e8d1615-7b3c-47f1-bc96-fd5e1ea60bdd"
      },
      "outputs": [],
      "source": [
        "# Split the Data into Train ( 70% ) and Test Set ( 30% ).\n",
        "features_train, features_test, labels_train, labels_test = train_test_split(features, one_hot_encoded_labels, test_size = 0.30, shuffle = True, random_state = seed_constant)"
      ]
    },
    {
      "cell_type": "code",
      "execution_count": 1,
      "id": "39ba3928",
      "metadata": {
        "id": "39ba3928"
      },
      "outputs": [],
      "source": [
        "def create_Xception_LRCN_model():\n",
        "    '''\n",
        "    This function will construct the required Xception + LRCN model for deep fake video detection.\n",
        "    Returns:\n",
        "        model: It is the required constructed Xception + LRCN model.\n",
        "    '''\n",
        "    # Load the pre-trained Xception model (excluding the top layers).\n",
        "    base_model = Xception(weights='imagenet', include_top=False, input_shape=(IMAGE_HEIGHT, IMAGE_WIDTH, 3))\n",
        "\n",
        "    # Freeze the weights of the Xception layers.\n",
        "    for layer in base_model.layers:\n",
        "        layer.trainable = False\n",
        "\n",
        "    # We will use a Sequential model for model construction.\n",
        "    model = Sequential()\n",
        "\n",
        "    # Add the Xception base model to the sequential model.\n",
        "    model.add(TimeDistributed(base_model, input_shape=(SEQUENCE_LENGTH, IMAGE_HEIGHT, IMAGE_WIDTH, 3)))\n",
        "\n",
        "    # Add LRCN layers on top of the Xception base.\n",
        "    model.add(TimeDistributed(Flatten()))\n",
        "\n",
        "    model.add(LSTM(176))\n",
        "\n",
        "    model.add(Dense(len(CLASSES_LIST), activation='softmax'))\n",
        "\n",
        "    # Display the model's summary.\n",
        "    model.summary()\n",
        "\n",
        "    # Return the constructed Xception + LRCN model.\n",
        "    return model\n",
        "\n",
        "# Define your SEQUENCE_LENGTH, IMAGE_HEIGHT, IMAGE_WIDTH, and CLASSES_LIST before calling the function.\n"
      ]
    },
    {
      "cell_type": "code",
      "execution_count": null,
      "id": "9761474c-510d-4573-aab8-dcd9c5c0a64a",
      "metadata": {
        "id": "9761474c-510d-4573-aab8-dcd9c5c0a64a"
      },
      "outputs": [],
      "source": [
        "# Construct the required LRCN model.\n",
        "LRCN_model = create_Xception_LRCN_model()\n",
        "\n",
        "# Display the success message.\n",
        "print(\"Model Created Successfully!\")"
      ]
    },
    {
      "cell_type": "code",
      "execution_count": 2,
      "id": "9d59360c-392e-4d60-908b-2665f67e415a",
      "metadata": {
        "id": "9d59360c-392e-4d60-908b-2665f67e415a"
      },
      "outputs": [],
      "source": [
        "# Plot the structure of the constructed LRCN model.\n",
        "plot_model(LRCN_model, to_file = 'LRCN_model_structure_plot.png', show_shapes = True, show_layer_names = True)\n"
      ]
    },
    {
      "cell_type": "code",
      "execution_count": null,
      "id": "cc15137f-4c75-4b24-aacb-e9cd4937bb54",
      "metadata": {
        "id": "cc15137f-4c75-4b24-aacb-e9cd4937bb54"
      },
      "outputs": [],
      "source": [
        "# Create an Instance of Early Stopping Callback.\n",
        "early_stopping_callback = EarlyStopping(monitor = 'val_loss', patience = 25, mode ='min', restore_best_weights = True)\n",
        "\n",
        "# Compile the model and specify loss function, optimizer and metrics to the model.\n",
        "LRCN_model.compile(loss = 'categorical_crossentropy', optimizer = 'Adam', metrics =[\"accuracy\"])\n",
        "\n",
        "#start training the model.\n",
        "LRCN_model_training_history = LRCN_model.fit(x = features_train, y = labels_train, epochs = 5, batch_size = 4, shuffle = True, validation_split = 0.25, callbacks = [early_stopping_callback])\n",
        "\n"
      ]
    },
    {
      "cell_type": "markdown",
      "id": "1fc31c22",
      "metadata": {},
      "source": [
        "For the Hyper Parameter Turing (Optimizer, Node, Filters, LSTM Layers )\n",
        "\n",
        "Below 6 Cells are for Hyper Parameter Turing\n",
        "\n"
      ]
    },
    {
      "cell_type": "code",
      "execution_count": null,
      "id": "4b8c11b0",
      "metadata": {
        "id": "4b8c11b0"
      },
      "outputs": [],
      "source": [
        "# from tensorflow.keras.models import Sequential\n",
        "# from tensorflow.keras.layers import TimeDistributed, Conv2D, MaxPooling2D, Dropout, Flatten, LSTM, Dense\n",
        "# from kerastuner.tuners import RandomSearch\n",
        "# from kerastuner.engine.hyperparameters import HyperParameters\n",
        "\n",
        "# def build_lrcn_model(hp):\n",
        "#     model = Sequential()\n",
        "\n",
        "#     model.add(TimeDistributed(Conv2D(hp.Int('conv1_units', min_value=8, max_value=128, step=8), (3, 3), padding='same', activation='relu'),\n",
        "#                               input_shape=(SEQUENCE_LENGTH, IMAGE_HEIGHT, IMAGE_WIDTH, 3)))\n",
        "#     model.add(TimeDistributed(MaxPooling2D((4, 4))))\n",
        "#     model.add(TimeDistributed(Dropout(hp.Float('dropout1', min_value=0.2, max_value=0.5, step=0.05))))\n",
        "\n",
        "#     model.add(TimeDistributed(Conv2D(hp.Int('conv2_units', min_value=8, max_value=128, step=8), (3, 3), padding='same', activation='relu')))\n",
        "#     model.add(TimeDistributed(MaxPooling2D((4, 4))))\n",
        "#     model.add(TimeDistributed(Dropout(hp.Float('dropout2', min_value=0.2, max_value=0.5, step=0.05))))\n",
        "\n",
        "#     model.add(TimeDistributed(Conv2D(hp.Int('conv3_units', min_value=8, max_value=128, step=8), (3, 3), padding='same', activation='relu')))\n",
        "#     model.add(TimeDistributed(MaxPooling2D((2, 2))))\n",
        "#     model.add(TimeDistributed(Dropout(hp.Float('dropout3', min_value=0.2, max_value=0.5, step=0.05))))\n",
        "\n",
        "#     model.add(TimeDistributed(Conv2D(hp.Int('conv4_units', min_value=8, max_value=128, step=8), (3, 3), padding='same', activation='relu')))\n",
        "#     model.add(TimeDistributed(MaxPooling2D((2, 2))))\n",
        "\n",
        "#     model.add(TimeDistributed(Flatten()))\n",
        "\n",
        "#     model.add(LSTM(hp.Int('lstm_units', min_value=16, max_value=256, step=16)))\n",
        "\n",
        "#     model.add(Dense(len(CLASSES_LIST), activation='softmax'))\n",
        "\n",
        "#     model.compile(optimizer=hp.Choice('optimizer', values=['adam', 'rmsprop', 'sgd', 'nadam', 'adadelta']),\n",
        "#                   loss='categorical_crossentropy',\n",
        "#                   metrics=['accuracy'])\n",
        "\n",
        "#     return model"
      ]
    },
    {
      "cell_type": "code",
      "execution_count": null,
      "id": "0485eed6",
      "metadata": {
        "id": "0485eed6"
      },
      "outputs": [],
      "source": [
        "# # Instantiate the Keras Tuner RandomSearch tuner\n",
        "# tuner = kt.RandomSearch(\n",
        "#                         build_lrcn_model,\n",
        "#                         objective = 'val_accuracy',\n",
        "#                         max_trials=3,\n",
        "#                         directory=\"minorProject1\",\n",
        "#                         project_name='perfinal'\n",
        "#                         )"
      ]
    },
    {
      "cell_type": "code",
      "execution_count": null,
      "id": "d73d67d5",
      "metadata": {
        "id": "d73d67d5"
      },
      "outputs": [],
      "source": [
        "# # Define the search space and start the hyperparameter tuning\n",
        "# tuner.search(features_train, labels_train, epochs=5, validation_data=(features_test, labels_test))"
      ]
    },
    {
      "cell_type": "code",
      "execution_count": null,
      "id": "4763bf71",
      "metadata": {
        "id": "4763bf71"
      },
      "outputs": [],
      "source": [
        "# tuner.get_best_hyperparameters()[0].values"
      ]
    },
    {
      "cell_type": "code",
      "execution_count": null,
      "id": "df5c3dff",
      "metadata": {
        "id": "df5c3dff"
      },
      "outputs": [],
      "source": [
        "# model = tuner.get_best_models(num_models=1)[0]"
      ]
    },
    {
      "cell_type": "code",
      "execution_count": null,
      "id": "16bcdef8",
      "metadata": {
        "id": "16bcdef8"
      },
      "outputs": [],
      "source": [
        "# model.fit(features_train, labels_train, epochs=20, initial_epoch=5, validation_data=(features_test, labels_test))"
      ]
    },
    {
      "cell_type": "code",
      "execution_count": null,
      "id": "cfcd3aac-dc8f-4044-bfe8-97dd387cfd7a",
      "metadata": {
        "id": "cfcd3aac-dc8f-4044-bfe8-97dd387cfd7a"
      },
      "outputs": [],
      "source": [
        "# Evaluate the trained model.\n",
        "model_evaluation_history = LRCN_model.evaluate(features_test, labels_test)"
      ]
    },
    {
      "cell_type": "code",
      "execution_count": null,
      "id": "7b5c61d9-8026-427f-a7dc-40e5f92b1515",
      "metadata": {
        "id": "7b5c61d9-8026-427f-a7dc-40e5f92b1515"
      },
      "outputs": [],
      "source": [
        "# Get the loss and accuracy from model_evaluation_history.\n",
        "model_evaluation_loss, model_evaluation_accuracy = model_evaluation_history\n",
        "\n",
        "# Define the string date format.\n",
        "# Get the current Date and Time in a DateTime Object.\n",
        "# Convert the DateTime object to string according to the style mentioned in date_time_format string.\n",
        "date_time_format = '%Y_%m_%d__%H_%M_%S'\n",
        "current_date_time_dt = dt.datetime.now()\n",
        "current_date_time_string = dt.datetime.strftime(current_date_time_dt, date_time_format)\n",
        "\n",
        "# Define a useful name for our model to make it easy for us while navigating through multiple saved models.\n",
        "model_file_name = f'LRCN_model___Date_Time_{current_date_time_string}___Loss_{model_evaluation_loss}___Accuracy_{model_evaluation_accuracy}.h5'\n",
        "\n",
        "# Save the Model.\n",
        "LRCN_model.save(model_file_name)\n"
      ]
    },
    {
      "cell_type": "code",
      "execution_count": null,
      "id": "c2f08c42-12fd-40e4-b3d8-98c4e09a469d",
      "metadata": {
        "id": "c2f08c42-12fd-40e4-b3d8-98c4e09a469d"
      },
      "outputs": [],
      "source": [
        "# Visualize the training and validation loss metrices.\n",
        "\n",
        "def plot_metric(history, train_metric, val_metric, metric_name):\n",
        "    # Plot training & validation metric values\n",
        "    plt.plot(history[train_metric], label=f'Training {metric_name}')\n",
        "    plt.plot(history[val_metric], label=f'Validation {metric_name}')\n",
        "    plt.title(f'Model {metric_name}')\n",
        "    plt.xlabel('Epoch')\n",
        "    plt.ylabel(metric_name)\n",
        "    plt.legend()\n",
        "    plt.show()\n",
        "\n",
        "# Assuming LRCN_model_training_history is your History object\n",
        "history = LRCN_model_training_history.history\n",
        "\n",
        "# Use the defined function to plot the metrics\n",
        "plot_metric(history, 'loss', 'val_loss', 'Total Loss vs Total Validation Loss')"
      ]
    },
    {
      "cell_type": "code",
      "execution_count": null,
      "id": "13618e3a-e3d5-4c21-af43-b17f667a4f94",
      "metadata": {
        "id": "13618e3a-e3d5-4c21-af43-b17f667a4f94"
      },
      "outputs": [],
      "source": [
        "# Visualize the training and validation accuracy metrices.\n",
        "\n",
        "def plot_metric(history, train_metric, val_metric, metric_name):\n",
        "    # Plot training & validation metric values\n",
        "    plt.plot(history[train_metric], label=f'Training {metric_name}')\n",
        "    plt.plot(history[val_metric], label=f'Validation {metric_name}')\n",
        "    plt.title(f'Model {metric_name}')\n",
        "    plt.xlabel('Epoch')\n",
        "    plt.ylabel(metric_name)\n",
        "    plt.legend()\n",
        "    plt.show()\n",
        "\n",
        "# Assuming LRCN_model_training_history is your History object\n",
        "history = LRCN_model_training_history.history\n",
        "\n",
        "# Use the defined function to plot the loss\n",
        "plot_metric(history, 'loss', 'val_loss', 'Total Loss vs Total Validation Loss')\n",
        "\n",
        "# Use the defined function to plot the accuracy\n",
        "plot_metric(history, 'accuracy', 'val_accuracy', 'Total Accuracy vs Total Validation Accuracy')"
      ]
    },
    {
      "cell_type": "code",
      "execution_count": null,
      "id": "W8KEKyWwhFOy",
      "metadata": {
        "id": "W8KEKyWwhFOy"
      },
      "outputs": [],
      "source": [
        "\n",
        "def predict_on_video(video_file_path, output_file_path, SEQUENCE_LENGTH):\n",
        "    '''\n",
        "    This function will perform action recognition on a video using the LRCN model.\n",
        "    Args:\n",
        "        video_file_path: The path of the video on which the action recognition is to be performed.\n",
        "        output_file_path: The path where the output video with the predicted action overlayed will be stored.\n",
        "        SEQUENCE_LENGTH: The fixed number of frames of a video that can be passed to the model as one sequence.\n",
        "    '''\n",
        "    # Initialize the VideoCapture object to read from the video file.\n",
        "    video_reader = cv2.VideoCapture(video_file_path)\n",
        "\n",
        "    # Create a list to store video frames\n",
        "    frames_list = []\n",
        "\n",
        "    # Iterate through the video and store frames in the frames list\n",
        "    while True:\n",
        "        # Read the frame\n",
        "        ok, frame = video_reader.read()\n",
        "\n",
        "        # Break the loop if the frame is not read properly\n",
        "        if not ok:\n",
        "            break\n",
        "\n",
        "        # Resize the frame to fixed dimensions\n",
        "        resized_frame = cv2.resize(frame, (IMAGE_HEIGHT, IMAGE_WIDTH))\n",
        "\n",
        "        # Normalize the resized frame\n",
        "        normalized_frame = resized_frame / 255.0\n",
        "\n",
        "        # Append the normalized frame to the frames list\n",
        "        frames_list.append(normalized_frame)\n",
        "\n",
        "        # Break the loop if the frames list reaches the desired sequence length\n",
        "        if len(frames_list) == SEQUENCE_LENGTH:\n",
        "            break\n",
        "\n",
        "    # Release the videocapture object\n",
        "    video_reader.release()\n",
        "\n",
        "    # Convert the frames list to a numpy array\n",
        "    frames_array = np.array(frames_list)\n",
        "\n",
        "    # Reshape the frames array to match the input shape expected by the model\n",
        "    frames_array = frames_array.reshape(1, SEQUENCE_LENGTH, IMAGE_HEIGHT, IMAGE_WIDTH, 3)\n",
        "\n",
        "    # Perform prediction using the LRCN model\n",
        "    predicted_labels_probabilities = LRCN_model.predict(frames_array)[0]\n",
        "\n",
        "    # Get the index of the class with the highest probability\n",
        "    predicted_label = np.argmax(predicted_labels_probabilities)\n",
        "\n",
        "    # Get the class name using the retrieved index\n",
        "    predicted_class_name = CLASSES_LIST[predicted_label]\n",
        "\n",
        "    # Print the predicted class and confidence\n",
        "    print(f'Predicted Action: {predicted_class_name}\\nConfidence: {predicted_labels_probabilities[predicted_label]}')\n",
        "\n",
        "    # Overlay the predicted action on the original video\n",
        "    overlay_on_video(video_file_path, output_file_path, predicted_class_name)\n",
        "\n",
        "def overlay_on_video(input_video_path, output_video_path, text):\n",
        "    '''\n",
        "    Overlay the predicted action text on the original video.\n",
        "    Args:\n",
        "        input_video_path: Path of the original video.\n",
        "        output_video_path: Path where the output video with overlay will be stored.\n",
        "        text: Text to overlay on the video.\n",
        "    '''\n",
        "    video_reader = cv2.VideoCapture(input_video_path)\n",
        "    frame_width = int(video_reader.get(3))\n",
        "    frame_height = int(video_reader.get(4))\n",
        "\n",
        "    # Define the codec and create a video writer object\n",
        "    fourcc = cv2.VideoWriter_fourcc(*'mp4v')\n",
        "    video_writer = cv2.VideoWriter(output_video_path, fourcc, 20.0, (frame_width, frame_height))\n",
        "\n",
        "    while True:\n",
        "        ret, frame = video_reader.read()\n",
        "        if not ret:\n",
        "            break\n",
        "\n",
        "        # Add text overlay on the frame\n",
        "        cv2.putText(frame, f\"Action: {text}\", (50, 50), cv2.FONT_HERSHEY_SIMPLEX, 1, (0, 255, 0), 2, cv2.LINE_AA)\n",
        "\n",
        "        # Write the frame to the output video\n",
        "        video_writer.write(frame)\n",
        "\n",
        "    # Release video reader and writer\n",
        "    video_reader.release()\n",
        "    video_writer.release()\n",
        "\n",
        "# Prompt user to enter the test video path\n",
        "\n",
        "# original_path =\"\"\n",
        "# converted_path = original_path.replace(\"\\\\\", \"/\")\n",
        "\n",
        "test_video_path = r'/content/drive/MyDrive/dataset2/Train/Fake/70.mp4'\n",
        "\n",
        "\n",
        "\n",
        "# Specify the output path for the overlayed video\n",
        "output_video_path = '/content/drive/MyDrive/Output'\n",
        "\n",
        "# Set your SEQUENCE_LENGTH\n",
        "SEQUENCE_LENGTH = 20\n",
        "\n",
        "# Call the function\n",
        "predict_on_video(test_video_path, output_video_path, SEQUENCE_LENGTH)"
      ]
    }
  ],
  "metadata": {
    "colab": {
      "gpuType": "T4",
      "provenance": []
    },
    "kernelspec": {
      "display_name": "Python 3",
      "name": "python3"
    },
    "language_info": {
      "codemirror_mode": {
        "name": "ipython",
        "version": 3
      },
      "file_extension": ".py",
      "mimetype": "text/x-python",
      "name": "python",
      "nbconvert_exporter": "python",
      "pygments_lexer": "ipython3",
      "version": "3.10.7"
    }
  },
  "nbformat": 4,
  "nbformat_minor": 5
}
